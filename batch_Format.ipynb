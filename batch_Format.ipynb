{
 "cells": [
  {
   "cell_type": "code",
   "execution_count": null,
   "metadata": {},
   "outputs": [],
   "source": [
    "# -*- coding: utf-8 -*-\n",
    "\n",
    "# Python 3.6\n",
    "# author: EJ Jang\n",
    "# date: 2018.06.14\n",
    "\n",
    "fileName = 'Accruals'\n",
    "print('Starting Factor - {}'.format(fileName))\n",
    "\n",
    "import numpy as np\n",
    "import pandas as pd\n",
    "import datetime as dt\n",
    "import time\n",
    "import re"
   ]
  },
  {
   "cell_type": "code",
   "execution_count": null,
   "metadata": {},
   "outputs": [],
   "source": [
    "from batch_utils.utils_dateSeq import batch_sequence\n",
    "from batch_utils.utils_mapping import get_Mapping, getUnique_TMSRS_CD\n",
    "from batch_utils.utils_mapping_orig import get_Mapping_orig\n",
    "from batch_utils.ItemInfo import Item_lst\n",
    "from batch_utils.common import chunker2, add_mapped_tick, firstCheck_duplicates, secondCheck_columns\n",
    "from batch_utils.common import check_mapping_df, save_batch\n",
    "from batch_utils.common import batch_monitor_msg, batch_finish_msg"
   ]
  },
  {
   "cell_type": "code",
   "execution_count": null,
   "metadata": {},
   "outputs": [],
   "source": [
    "from batch_utils import WS_retrieve_custom, WS_resample\n",
    "from batch_utils import simple_add, simple_mult, simple_div, simple_subtract\n",
    "from batch_utils import align_add, align_mult, align_div, align_subtract\n",
    "from batch_utils import substitute_Value"
   ]
  },
  {
   "cell_type": "code",
   "execution_count": null,
   "metadata": {},
   "outputs": [],
   "source": [
    "# Date Sequence to be made by this batch\n",
    "bkfil, rtvStart, seq_DT = batch_sequence('batch', 'W')"
   ]
  },
  {
   "cell_type": "code",
   "execution_count": null,
   "metadata": {},
   "outputs": [],
   "source": [
    "# Getting the Universe in TMSRS_CD ~ Code Map\n",
    "allSec = getUnique_TMSRS_CD()\n",
    "# codeMap = get_Mapping('worldscope')\n",
    "codeMap = get_Mapping_orig('worldscope')\n",
    "trim_codeMap = codeMap[codeMap['TMSRS_CD'].isin(allSec)].copy()\n",
    "trim_codeMap_uniq = trim_codeMap['Code'].unique()\n",
    "\n",
    "print(trim_codeMap.iloc[:2])\n",
    "print('\\n>>> Total Mapping Securities #: {}'.format(trim_codeMap.shape[0]))\n",
    "print('>>> Total Performing Securities #: {}'.format(trim_codeMap_uniq.shape[0]))"
   ]
  },
  {
   "cell_type": "code",
   "execution_count": null,
   "metadata": {},
   "outputs": [],
   "source": [
    "# Checking Level of Duplicates in codeMap\n",
    "chk_codeMap = check_mapping_df(trim_codeMap)"
   ]
  },
  {
   "cell_type": "code",
   "execution_count": null,
   "metadata": {},
   "outputs": [],
   "source": [
    "# Options - Batch or Backfill (bkfil: False, True)\n",
    "bkfil = False\n",
    "add_lback_kwarg = dict(add_lback_yr=10, add_lback_qtr=24)\n",
    "\n",
    "DF_accruals_yr, DF_accruals_qtr = pd.DataFrame(), pd.DataFrame()\n",
    "DF_accrualsS_yr, DF_accrualsS_qtr = pd.DataFrame(), pd.DataFrame()\n",
    "\n",
    "# Transform Security List into Batch Chunks\n",
    "Code_lst_tot = chunker2(trim_codeMap_uniq.tolist(), 50)\n",
    "tot_n = len(Code_lst_tot)"
   ]
  },
  {
   "cell_type": "code",
   "execution_count": null,
   "metadata": {},
   "outputs": [],
   "source": [
    "# Bring needed items\n",
    "cf_item  = Item_lst.loc['NetCF_Operating']\n",
    "ni_item  = Item_lst.loc['NetIncome_bExIt']\n",
    "rev_item = Item_lst.loc['NetSales_Revenue']\n",
    "aa_item  = Item_lst.loc['TotAsset_st']"
   ]
  },
  {
   "cell_type": "code",
   "execution_count": null,
   "metadata": {},
   "outputs": [],
   "source": [
    "st_time = time.time()\n",
    "for i, Code_lst in enumerate(Code_lst_tot):\n",
    "    # Cashflow\n",
    "    cf_yr, cf_qtr = WS_retrieve_custom(\n",
    "        cf_item['Item'], cf_item['Table'], Code_lst, 'sum', bkfil, **add_lback_kwarg)\n",
    "    # NetIncome\n",
    "    ni_yr, ni_qtr = WS_retrieve_custom(\n",
    "        ni_item['Item'], ni_item['Table'], Code_lst, 'sum', bkfil, **add_lback_kwarg)\n",
    "    # Revenue\n",
    "    rev_yr, rev_qtr = WS_retrieve_custom(\n",
    "        rev_item['Item'], rev_item['Table'], Code_lst, 'sum', bkfil, **add_lback_kwarg)\n",
    "    # Total Asset\n",
    "    aa_yr, aa_qtr = WS_retrieve_custom(\n",
    "        aa_item['Item'], aa_item['Table'], Code_lst, 'avg', bkfil, **add_lback_kwarg)\n",
    "\n",
    "    # Year\n",
    "    fill_cols = ['FiscalPrd', 'CalPrdEndDate', 'Value_', 'FILLyr']\n",
    "    cf_yr_samp = WS_resample(seq_DT, cf_yr, fill_cols=fill_cols)\n",
    "    ni_yr_samp = WS_resample(seq_DT, ni_yr, fill_cols=fill_cols)\n",
    "    rev_yr_samp = WS_resample(seq_DT, rev_yr, fill_cols=fill_cols)\n",
    "    aa_yr_samp = WS_resample(seq_DT, aa_yr, fill_cols=fill_cols)\n",
    "\n",
    "    cols = ['BASE_DT', 'Code', 'FiscalPrd', 'Value_']\n",
    "    _acc_yr_samp = align_subtract(cf_yr_samp, ni_yr_samp)\n",
    "    accruals_yr_samp = align_div(_acc_yr_samp[cols], aa_yr_samp)\n",
    "    accrualsS_yr_samp = align_div(_acc_yr_samp[cols], rev_yr_samp)\n",
    "\n",
    "    DF_accruals_yr = DF_accruals_yr.append(accruals_yr_samp, sort=False)\n",
    "    DF_accrualsS_yr = DF_accrualsS_yr.append(accrualsS_yr_samp, sort=False)\n",
    "    \n",
    "\n",
    "    # Quarter\n",
    "    fill_cols = ['FiscalPrd', 'FiscalPrd2', 'CalPrdEndDate', 'Value_', 'FILLyr']\n",
    "    cf_qtr_samp = WS_resample(seq_DT, cf_qtr, fill_cols=fill_cols)\n",
    "    ni_qtr_samp = WS_resample(seq_DT, ni_qtr, fill_cols=fill_cols)\n",
    "    rev_qtr_samp = WS_resample(seq_DT, rev_qtr, fill_cols=fill_cols)\n",
    "    aa_qtr_samp = WS_resample(seq_DT, aa_qtr, fill_cols=fill_cols)\n",
    "\n",
    "    cols = ['BASE_DT', 'Code', 'FiscalPrd', 'Value_']\n",
    "    _acc_qtr_samp = align_subtract(cf_qtr_samp, ni_qtr_samp)\n",
    "    accruals_qtr_samp = align_div(_acc_qtr_samp[cols], aa_qtr_samp)\n",
    "    accrualsS_qtr_samp = align_div(_acc_qtr_samp[cols], rev_qtr_samp)\n",
    "\n",
    "    DF_accruals_qtr = DF_accruals_qtr.append(accruals_qtr_samp, sort=False)\n",
    "    DF_accrualsS_qtr = DF_accrualsS_qtr.append(accrualsS_qtr_samp, sort=False)\n",
    "    \n",
    "    batch_monitor_msg(i, tot_n, st_time)\n",
    "batch_finish_msg(tot_n, st_time)"
   ]
  },
  {
   "cell_type": "code",
   "execution_count": null,
   "metadata": {},
   "outputs": [],
   "source": [
    "DF_accruals_tot = substitute_Value(DF_accruals_yr, DF_accruals_qtr)\n",
    "DF_accrualsS_tot = substitute_Value(DF_accrualsS_yr, DF_accrualsS_qtr)"
   ]
  },
  {
   "cell_type": "code",
   "execution_count": null,
   "metadata": {},
   "outputs": [],
   "source": [
    "#*------------\n",
    "firstCheck_duplicates(DF_accruals_tot, DF_accrualsS_tot)\n",
    "#*------------"
   ]
  },
  {
   "cell_type": "code",
   "execution_count": null,
   "metadata": {},
   "outputs": [],
   "source": [
    "# Map Code -> TMSRS_CD\n",
    "# Should customize columns by needed ones.\n",
    "# MUST HAVE 'BASE_DT', 'TMSRS_CD', 'Code', 'Value_', 'RGN_TP_CD', 'freq'\n",
    "cols = ['BASE_DT', 'TMSRS_CD', 'Code', 'Value_yr', 'Value_qtr', 'Value_',\n",
    "        'RGN_TP_CD', 'freq', 'ref']\n",
    "DF_accruals_tot = add_mapped_tick(DF_accruals_tot, trim_codeMap)[cols]\n",
    "DF_accrualsS_tot = add_mapped_tick(DF_accrualsS_tot, trim_codeMap)[cols]"
   ]
  },
  {
   "cell_type": "code",
   "execution_count": null,
   "metadata": {},
   "outputs": [],
   "source": [
    "#*------------\n",
    "secondCheck_columns(DF_accruals_tot, DF_accrualsS_tot)\n",
    "#*------------"
   ]
  },
  {
   "cell_type": "code",
   "execution_count": null,
   "metadata": {},
   "outputs": [],
   "source": [
    "DF_accruals_tot['StyleName'] = 'Accruals'\n",
    "DF_accrualsS_tot['StyleName'] = 'Accruals.S'"
   ]
  },
  {
   "cell_type": "code",
   "execution_count": null,
   "metadata": {},
   "outputs": [],
   "source": [
    "DF = DF_accruals_tot.append(DF_accrualsS_tot)"
   ]
  },
  {
   "cell_type": "code",
   "execution_count": null,
   "metadata": {},
   "outputs": [],
   "source": [
    "# Save!\n",
    "save_batch(bkfil, DF, fileName)"
   ]
  },
  {
   "cell_type": "code",
   "execution_count": null,
   "metadata": {},
   "outputs": [],
   "source": [
    "from batch_utils.fill_monitor import print_fillReport\n",
    "out = print_fillReport(bkfil, DF)\n",
    "print(out)"
   ]
  }
 ],
 "metadata": {
  "kernelspec": {
   "display_name": "Python 3",
   "language": "python",
   "name": "python3"
  },
  "language_info": {
   "codemirror_mode": {
    "name": "ipython",
    "version": 3
   },
   "file_extension": ".py",
   "mimetype": "text/x-python",
   "name": "python",
   "nbconvert_exporter": "python",
   "pygments_lexer": "ipython3",
   "version": "3.6.5"
  }
 },
 "nbformat": 4,
 "nbformat_minor": 2
}
