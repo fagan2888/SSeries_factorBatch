{
 "cells": [
  {
   "cell_type": "code",
   "execution_count": 1,
   "metadata": {},
   "outputs": [
    {
     "name": "stdout",
     "output_type": "stream",
     "text": [
      "make_0a_ibes_roe.py\n",
      "make_1a_ibes_edp.py\n",
      "make_2b_SustG.py\n",
      "make_3b_GARP.py\n",
      "make_5yrRel_CFO2EV.py\n",
      "make_5yrRel_CFO2px.py\n",
      "make_5yrRel_EBITDA2px.py\n",
      "make_Accruals.py\n",
      "make_ARDays.py\n",
      "make_AxiomaMomentum.py\n",
      "make_CAcqR.py\n",
      "make_EarnRev.py\n",
      "make_EVEbitda.py\n",
      "make_FCFROIC.py\n",
      "make_GPOA.py\n",
      "make_IntC.py\n",
      "make_LTDebt.py\n",
      "make_margin.py\n",
      "make_OpLev.py\n",
      "make_Ratios.py\n",
      "make_ROIC.py\n",
      "make_Starmine.py\n",
      "make_Value.py\n"
     ]
    }
   ],
   "source": [
    "import os\n",
    "\n",
    "option = 'backfill'\n",
    "freq = 'W'\n",
    "\n",
    "file_lst = [f for f in os.listdir() if os.path.isfile(f) & (f[:5]=='make_')]\n",
    "python_exec = \"C:\\\\Users\\\\KIC\\\\Anaconda3\\\\python.exe\"\n",
    "name_ = 'RUN_FactorCreation_{}_{}.bat'.format(option, freq)\n",
    "\n",
    "with open(name_, 'w', newline='') as f:\n",
    "    f.write('call activate batchenv\\n')\n",
    "    for file in file_lst:\n",
    "        cmd = python_exec + ' ' + '\"{}\\\\{}\"'.format(os.path.abspath('.'), file)\n",
    "        cmd += ' \"{}\" \"{}\"\\n'.format(option, freq)\n",
    "        f.write(cmd)\n",
    "        print(file)\n",
    "    f.write('call deactivate')"
   ]
  },
  {
   "cell_type": "code",
   "execution_count": null,
   "metadata": {},
   "outputs": [],
   "source": []
  }
 ],
 "metadata": {
  "kernelspec": {
   "display_name": "Python 3",
   "language": "python",
   "name": "python3"
  },
  "language_info": {
   "codemirror_mode": {
    "name": "ipython",
    "version": 3
   },
   "file_extension": ".py",
   "mimetype": "text/x-python",
   "name": "python",
   "nbconvert_exporter": "python",
   "pygments_lexer": "ipython3",
   "version": "3.6.5"
  }
 },
 "nbformat": 4,
 "nbformat_minor": 2
}
